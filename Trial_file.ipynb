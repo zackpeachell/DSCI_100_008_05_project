{
 "cells": [
  {
   "cell_type": "markdown",
   "id": "39b9a6ab-d9c7-4ae5-bd7c-93edc6bb8716",
   "metadata": {},
   "source": [
    "This cell is used to test stuff that we are not sure about adding into our actual final project yet, do not submit this file under any circumstances, only if you want to mess around with some stuff"
   ]
  },
  {
   "cell_type": "markdown",
   "id": "60b9fa88-0cc9-4f6d-92d0-489e44f016b5",
   "metadata": {},
   "source": [
    "Some stuff to play with\n",
    "- using as.numeric on star color for prediction stuff"
   ]
  },
  {
   "cell_type": "code",
   "execution_count": null,
   "id": "fc2fd54d-b400-4a81-91ef-6fff98dfa6f4",
   "metadata": {},
   "outputs": [],
   "source": []
  }
 ],
 "metadata": {
  "kernelspec": {
   "display_name": "R",
   "language": "R",
   "name": "ir"
  },
  "language_info": {
   "codemirror_mode": "r",
   "file_extension": ".r",
   "mimetype": "text/x-r-source",
   "name": "R",
   "pygments_lexer": "r",
   "version": "4.3.1"
  }
 },
 "nbformat": 4,
 "nbformat_minor": 5
}
